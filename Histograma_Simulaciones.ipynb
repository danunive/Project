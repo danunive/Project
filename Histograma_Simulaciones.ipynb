{
  "nbformat": 4,
  "nbformat_minor": 0,
  "metadata": {
    "colab": {
      "name": "Histograma Simulaciones",
      "provenance": [],
      "toc_visible": true,
      "authorship_tag": "ABX9TyOBgxZFra+35f2y2K72iLeo",
      "include_colab_link": true
    },
    "kernelspec": {
      "name": "python3",
      "display_name": "Python 3"
    },
    "language_info": {
      "name": "python"
    }
  },
  "cells": [
    {
      "cell_type": "markdown",
      "metadata": {
        "id": "view-in-github",
        "colab_type": "text"
      },
      "source": [
        "<a href=\"https://colab.research.google.com/github/danunive/Project/blob/master/Histograma_Simulaciones.ipynb\" target=\"_parent\"><img src=\"https://colab.research.google.com/assets/colab-badge.svg\" alt=\"Open In Colab\"/></a>"
      ]
    },
    {
      "cell_type": "code",
      "metadata": {
        "id": "cb_56pnnFicU"
      },
      "source": [
        "import pandas as pd\n",
        "import numpy as np\n",
        "import matplotlib.pyplot as plt\n"
      ],
      "execution_count": null,
      "outputs": []
    },
    {
      "cell_type": "code",
      "metadata": {
        "colab": {
          "base_uri": "https://localhost:8080/"
        },
        "id": "d8SRry6gFpvK",
        "outputId": "c722914a-f5af-4b85-b0d7-504d15187901"
      },
      "source": [
        "datos = pd.read_csv('datos_histograma.csv')\n",
        "print(datos.head())\n",
        "print(datos.shape)\n",
        "print(datos.dtypes)\n",
        "\n",
        "#ID de la simulación y valor final de la simulación"
      ],
      "execution_count": null,
      "outputs": [
        {
          "output_type": "stream",
          "text": [
            "   Unnamed: 0   0\n",
            "0           0  87\n",
            "1           1  45\n",
            "2           2  83\n",
            "3           3  76\n",
            "4           4  54\n",
            "(500, 2)\n",
            "Unnamed: 0    int64\n",
            "0             int64\n",
            "dtype: object\n"
          ],
          "name": "stdout"
        }
      ]
    },
    {
      "cell_type": "code",
      "metadata": {
        "id": "mWMPpg9aGMDE"
      },
      "source": [
        ""
      ],
      "execution_count": null,
      "outputs": []
    },
    {
      "cell_type": "code",
      "metadata": {
        "colab": {
          "base_uri": "https://localhost:8080/",
          "height": 191
        },
        "id": "j_K560RpGxmL",
        "outputId": "e2a2b663-5bf8-4de1-96ae-2f6d178d182c"
      },
      "source": [
        "datos = datos.rename(columns={'Unnamed: 0':'Simulacion',\n",
        "                                   '0':'llegada'})\n",
        "datos.head()"
      ],
      "execution_count": null,
      "outputs": [
        {
          "output_type": "execute_result",
          "data": {
            "text/html": [
              "<div>\n",
              "<style scoped>\n",
              "    .dataframe tbody tr th:only-of-type {\n",
              "        vertical-align: middle;\n",
              "    }\n",
              "\n",
              "    .dataframe tbody tr th {\n",
              "        vertical-align: top;\n",
              "    }\n",
              "\n",
              "    .dataframe thead th {\n",
              "        text-align: right;\n",
              "    }\n",
              "</style>\n",
              "<table border=\"1\" class=\"dataframe\">\n",
              "  <thead>\n",
              "    <tr style=\"text-align: right;\">\n",
              "      <th></th>\n",
              "      <th>Simulacion</th>\n",
              "      <th>llegada</th>\n",
              "    </tr>\n",
              "  </thead>\n",
              "  <tbody>\n",
              "    <tr>\n",
              "      <th>0</th>\n",
              "      <td>0</td>\n",
              "      <td>87</td>\n",
              "    </tr>\n",
              "    <tr>\n",
              "      <th>1</th>\n",
              "      <td>1</td>\n",
              "      <td>45</td>\n",
              "    </tr>\n",
              "    <tr>\n",
              "      <th>2</th>\n",
              "      <td>2</td>\n",
              "      <td>83</td>\n",
              "    </tr>\n",
              "    <tr>\n",
              "      <th>3</th>\n",
              "      <td>3</td>\n",
              "      <td>76</td>\n",
              "    </tr>\n",
              "    <tr>\n",
              "      <th>4</th>\n",
              "      <td>4</td>\n",
              "      <td>54</td>\n",
              "    </tr>\n",
              "  </tbody>\n",
              "</table>\n",
              "</div>"
            ],
            "text/plain": [
              "   Simulacion  llegada\n",
              "0           0       87\n",
              "1           1       45\n",
              "2           2       83\n",
              "3           3       76\n",
              "4           4       54"
            ]
          },
          "metadata": {
            "tags": []
          },
          "execution_count": 49
        }
      ]
    },
    {
      "cell_type": "code",
      "metadata": {
        "colab": {
          "base_uri": "https://localhost:8080/"
        },
        "id": "pZN8E5UnH1kd",
        "outputId": "4a213136-c539-4207-ce47-e47a913eaa82"
      },
      "source": [
        "datos.llegada.describe() #Nos interesa comprender las medidas estadísticas de la variable numérica de llagada"
      ],
      "execution_count": null,
      "outputs": [
        {
          "output_type": "execute_result",
          "data": {
            "text/plain": [
              "count    500.000000\n",
              "mean      71.802000\n",
              "std       20.270485\n",
              "min        2.000000\n",
              "25%       61.000000\n",
              "50%       73.000000\n",
              "75%       84.000000\n",
              "max      130.000000\n",
              "Name: llegada, dtype: float64"
            ]
          },
          "metadata": {
            "tags": []
          },
          "execution_count": 51
        }
      ]
    },
    {
      "cell_type": "code",
      "metadata": {
        "colab": {
          "base_uri": "https://localhost:8080/",
          "height": 455
        },
        "id": "xtCN6xFdIXra",
        "outputId": "96c064ae-299c-4387-f3af-a18537f384c9"
      },
      "source": [
        "# ¿Cómo graficamos esto?\n",
        "plt.figure(figsize=(8, 7))\n",
        "plt.hist(datos['llegada'],range=(datos.llegada.min(), datos.llegada.max()), bins=7)\n",
        "\n",
        "plt.xlabel('Nivel llegada', size = 23)\n",
        "plt.ylabel('Conteo de simulaciones', size = 23)\n",
        "\n",
        "plt.show()"
      ],
      "execution_count": null,
      "outputs": [
        {
          "output_type": "display_data",
          "data": {
            "image/png": "[encoded data removed]",
            "text/plain": [
              "<Figure size 576x504 with 1 Axes>"
            ]
          },
          "metadata": {
            "tags": [],
            "needs_background": "light"
          }
        }
      ]
    },
    {
      "cell_type": "code",
      "metadata": {
        "id": "WCHBNn98JAaR"
      },
      "source": [
        ""
      ],
      "execution_count": null,
      "outputs": []
    },
    {
      "cell_type": "code",
      "metadata": {
        "colab": {
          "base_uri": "https://localhost:8080/"
        },
        "id": "9-9YTXNqqmNp",
        "outputId": "599dbda6-b742-4eed-d97f-e4d4ab5d55a9"
      },
      "source": [
        "#Teniendo en cuenta los datos anteriores ¿Cuál es la probabilidad de pasar más de 60 pisos?\n",
        "¿De qué otra manera puedes hacer el conteo?\n",
        "(np.count_nonzero(datos['llegada']>60)/500)*100\n"
      ],
      "execution_count": null,
      "outputs": [
        {
          "output_type": "execute_result",
          "data": {
            "text/plain": [
              "76.4"
            ]
          },
          "metadata": {
            "tags": []
          },
          "execution_count": 57
        }
      ]
    }
  ]
}