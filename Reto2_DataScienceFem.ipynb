{
  "nbformat": 4,
  "nbformat_minor": 0,
  "metadata": {
    "colab": {
      "name": "Reto2_DataScienceFem.ipynb",
      "provenance": [],
      "toc_visible": true,
      "authorship_tag": "ABX9TyNaRkPm+GpNBIbSb5uG0xGh",
      "include_colab_link": true
    },
    "kernelspec": {
      "name": "python3",
      "display_name": "Python 3"
    },
    "language_info": {
      "name": "python"
    }
  },
  "cells": [
    {
      "cell_type": "markdown",
      "metadata": {
        "id": "view-in-github",
        "colab_type": "text"
      },
      "source": [
        "<a href=\"https://colab.research.google.com/github/danunive/Project/blob/master/Reto2_DataScienceFem.ipynb\" target=\"_parent\"><img src=\"https://colab.research.google.com/assets/colab-badge.svg\" alt=\"Open In Colab\"/></a>"
      ]
    },
    {
      "cell_type": "markdown",
      "metadata": {
        "id": "zHjV8p3YnlEN"
      },
      "source": [
        "## **Nobel laureates, 1901-present**\n",
        "\n",
        "0   Year: The year that this noble prize was awarded\n",
        "\n",
        " 1   Category:\n",
        "\n",
        " 2   Prize \n",
        "\n",
        " 3   Motivation\n",
        "\n",
        " 4   Prize Share\n",
        "\n",
        " **5   Laureate ID** \n",
        "\n",
        " 6   Laureate Type  (Individual - Organizacion)\n",
        "\n",
        " 7   Full Name : Full name of the recipient\n",
        "\n",
        " 8   Birth Date: Birth date of the recipient\n",
        "\n",
        " 9   Birth City: Birth city of the recipient\n",
        "\n",
        " 10  Birth Country: Birth country of the recipient\n",
        "\n",
        " 11  Sex: sex of the recipient\n",
        "\n",
        " 12  Organization Name\n",
        "\n",
        " 13  Organization City\n",
        "\n",
        " 14  Organization Country\n",
        "\n",
        " 15  Death Date: Death date of the recipient\n",
        "\n",
        " 16  Death City: Death city of the recipient\n",
        "\n",
        " 17  Death Country: Deadth Country of the recipient"
      ]
    },
    {
      "cell_type": "markdown",
      "metadata": {
        "id": "vX8JWO8FnlDX"
      },
      "source": [
        ""
      ]
    },
    {
      "cell_type": "code",
      "metadata": {
        "id": "8tvk8RKpmQ39"
      },
      "source": [
        "import pandas as pd\n"
      ],
      "execution_count": null,
      "outputs": []
    },
    {
      "cell_type": "code",
      "metadata": {
        "colab": {
          "base_uri": "https://localhost:8080/",
          "height": 284
        },
        "id": "fKU9bkOUmSvf",
        "outputId": "83065c5d-7785-49ba-b831-c48361faba1e"
      },
      "source": [
        "datos = pd.read_csv(\"/content/archive.csv\", sep=\",\")\n",
        "datos.head(2)"
      ],
      "execution_count": null,
      "outputs": [
        {
          "output_type": "execute_result",
          "data": {
            "text/html": [
              "<div>\n",
              "<style scoped>\n",
              "    .dataframe tbody tr th:only-of-type {\n",
              "        vertical-align: middle;\n",
              "    }\n",
              "\n",
              "    .dataframe tbody tr th {\n",
              "        vertical-align: top;\n",
              "    }\n",
              "\n",
              "    .dataframe thead th {\n",
              "        text-align: right;\n",
              "    }\n",
              "</style>\n",
              "<table border=\"1\" class=\"dataframe\">\n",
              "  <thead>\n",
              "    <tr style=\"text-align: right;\">\n",
              "      <th></th>\n",
              "      <th>Year</th>\n",
              "      <th>Category</th>\n",
              "      <th>Prize</th>\n",
              "      <th>Motivation</th>\n",
              "      <th>Prize Share</th>\n",
              "      <th>Laureate ID</th>\n",
              "      <th>Laureate Type</th>\n",
              "      <th>Full Name</th>\n",
              "      <th>Birth Date</th>\n",
              "      <th>Birth City</th>\n",
              "      <th>Birth Country</th>\n",
              "      <th>Sex</th>\n",
              "      <th>Organization Name</th>\n",
              "      <th>Organization City</th>\n",
              "      <th>Organization Country</th>\n",
              "      <th>Death Date</th>\n",
              "      <th>Death City</th>\n",
              "      <th>Death Country</th>\n",
              "    </tr>\n",
              "  </thead>\n",
              "  <tbody>\n",
              "    <tr>\n",
              "      <th>0</th>\n",
              "      <td>1901</td>\n",
              "      <td>Chemistry</td>\n",
              "      <td>The Nobel Prize in Chemistry 1901</td>\n",
              "      <td>\"in recognition of the extraordinary services ...</td>\n",
              "      <td>1/1</td>\n",
              "      <td>160</td>\n",
              "      <td>Individual</td>\n",
              "      <td>Jacobus Henricus van 't Hoff</td>\n",
              "      <td>1852-08-30</td>\n",
              "      <td>Rotterdam</td>\n",
              "      <td>Netherlands</td>\n",
              "      <td>Male</td>\n",
              "      <td>Berlin University</td>\n",
              "      <td>Berlin</td>\n",
              "      <td>Germany</td>\n",
              "      <td>1911-03-01</td>\n",
              "      <td>Berlin</td>\n",
              "      <td>Germany</td>\n",
              "    </tr>\n",
              "    <tr>\n",
              "      <th>1</th>\n",
              "      <td>1901</td>\n",
              "      <td>Literature</td>\n",
              "      <td>The Nobel Prize in Literature 1901</td>\n",
              "      <td>\"in special recognition of his poetic composit...</td>\n",
              "      <td>1/1</td>\n",
              "      <td>569</td>\n",
              "      <td>Individual</td>\n",
              "      <td>Sully Prudhomme</td>\n",
              "      <td>1839-03-16</td>\n",
              "      <td>Paris</td>\n",
              "      <td>France</td>\n",
              "      <td>Male</td>\n",
              "      <td>NaN</td>\n",
              "      <td>NaN</td>\n",
              "      <td>NaN</td>\n",
              "      <td>1907-09-07</td>\n",
              "      <td>Châtenay</td>\n",
              "      <td>France</td>\n",
              "    </tr>\n",
              "  </tbody>\n",
              "</table>\n",
              "</div>"
            ],
            "text/plain": [
              "   Year    Category  ... Death City Death Country\n",
              "0  1901   Chemistry  ...     Berlin       Germany\n",
              "1  1901  Literature  ...   Châtenay        France\n",
              "\n",
              "[2 rows x 18 columns]"
            ]
          },
          "metadata": {
            "tags": []
          },
          "execution_count": 7
        }
      ]
    },
    {
      "cell_type": "code",
      "metadata": {
        "colab": {
          "base_uri": "https://localhost:8080/"
        },
        "id": "F5NXe70_mZLF",
        "outputId": "f3b169a1-fe9f-4693-e642-c8a03faa8cab"
      },
      "source": [
        "datos.info()"
      ],
      "execution_count": null,
      "outputs": [
        {
          "output_type": "stream",
          "text": [
            "<class 'pandas.core.frame.DataFrame'>\n",
            "RangeIndex: 969 entries, 0 to 968\n",
            "Data columns (total 18 columns):\n",
            " #   Column                Non-Null Count  Dtype \n",
            "---  ------                --------------  ----- \n",
            " 0   Year                  969 non-null    int64 \n",
            " 1   Category              969 non-null    object\n",
            " 2   Prize                 969 non-null    object\n",
            " 3   Motivation            881 non-null    object\n",
            " 4   Prize Share           969 non-null    object\n",
            " 5   Laureate ID           969 non-null    int64 \n",
            " 6   Laureate Type         969 non-null    object\n",
            " 7   Full Name             969 non-null    object\n",
            " 8   Birth Date            940 non-null    object\n",
            " 9   Birth City            941 non-null    object\n",
            " 10  Birth Country         943 non-null    object\n",
            " 11  Sex                   943 non-null    object\n",
            " 12  Organization Name     722 non-null    object\n",
            " 13  Organization City     716 non-null    object\n",
            " 14  Organization Country  716 non-null    object\n",
            " 15  Death Date            617 non-null    object\n",
            " 16  Death City            599 non-null    object\n",
            " 17  Death Country         605 non-null    object\n",
            "dtypes: int64(2), object(16)\n",
            "memory usage: 136.4+ KB\n"
          ],
          "name": "stdout"
        }
      ]
    },
    {
      "cell_type": "code",
      "metadata": {
        "colab": {
          "base_uri": "https://localhost:8080/"
        },
        "id": "jBu5eS7rnJnI",
        "outputId": "b3ef03cc-46da-4ea2-808b-bddf88a6d4d9"
      },
      "source": [
        "datos[['Category','Laureate Type']].value_counts() -- It is 6 Category"
      ],
      "execution_count": null,
      "outputs": [
        {
          "output_type": "execute_result",
          "data": {
            "text/plain": [
              "Category    Laureate Type\n",
              "Medicine    Individual       227\n",
              "Physics     Individual       222\n",
              "Chemistry   Individual       194\n",
              "Literature  Individual       113\n",
              "Peace       Individual       100\n",
              "Economics   Individual        83\n",
              "Peace       Organization      30\n",
              "dtype: int64"
            ]
          },
          "metadata": {
            "tags": []
          },
          "execution_count": 15
        }
      ]
    },
    {
      "cell_type": "code",
      "metadata": {
        "id": "40PCmtzkpe-v"
      },
      "source": [
        "datos_categoria_country = datos.groupby(['Category','Birth Country'])\n",
        "\n"
      ],
      "execution_count": null,
      "outputs": []
    },
    {
      "cell_type": "markdown",
      "metadata": {
        "id": "JGWX7vxj4fq6"
      },
      "source": [
        "# Nueva sección"
      ]
    },
    {
      "cell_type": "code",
      "metadata": {
        "colab": {
          "base_uri": "https://localhost:8080/",
          "height": 298
        },
        "id": "FE8JWk2t0pvy",
        "outputId": "cc3ba661-ca8e-4d9b-88a8-17c2a218f73f"
      },
      "source": [
        "datos_categoria_country.value_counts()"
      ],
      "execution_count": null,
      "outputs": [
        {
          "output_type": "error",
          "ename": "AttributeError",
          "evalue": "ignored",
          "traceback": [
            "\u001b[0;31m---------------------------------------------------------------------------\u001b[0m",
            "\u001b[0;31mAttributeError\u001b[0m                            Traceback (most recent call last)",
            "\u001b[0;32m<ipython-input-24-e16a64d374f2>\u001b[0m in \u001b[0;36m<module>\u001b[0;34m()\u001b[0m\n\u001b[0;32m----> 1\u001b[0;31m \u001b[0mdatos_categoria_country\u001b[0m\u001b[0;34m.\u001b[0m\u001b[0mvalue_counts\u001b[0m\u001b[0;34m(\u001b[0m\u001b[0;34m)\u001b[0m\u001b[0;34m\u001b[0m\u001b[0;34m\u001b[0m\u001b[0m\n\u001b[0m",
            "\u001b[0;32m/usr/local/lib/python3.7/dist-packages/pandas/core/groupby/groupby.py\u001b[0m in \u001b[0;36m__getattr__\u001b[0;34m(self, attr)\u001b[0m\n\u001b[1;32m    702\u001b[0m \u001b[0;34m\u001b[0m\u001b[0m\n\u001b[1;32m    703\u001b[0m         raise AttributeError(\n\u001b[0;32m--> 704\u001b[0;31m             \u001b[0;34mf\"'{type(self).__name__}' object has no attribute '{attr}'\"\u001b[0m\u001b[0;34m\u001b[0m\u001b[0;34m\u001b[0m\u001b[0m\n\u001b[0m\u001b[1;32m    705\u001b[0m         )\n\u001b[1;32m    706\u001b[0m \u001b[0;34m\u001b[0m\u001b[0m\n",
            "\u001b[0;31mAttributeError\u001b[0m: 'DataFrameGroupBy' object has no attribute 'value_counts'"
          ]
        }
      ]
    },
    {
      "cell_type": "code",
      "metadata": {
        "id": "0smSW4Wq17DV"
      },
      "source": [
        ""
      ],
      "execution_count": null,
      "outputs": []
    }
  ]
}